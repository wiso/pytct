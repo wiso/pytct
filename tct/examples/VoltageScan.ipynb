{
 "cells": [
  {
   "cell_type": "code",
   "execution_count": 1,
   "metadata": {},
   "outputs": [],
   "source": [
    "import numpy as np\n",
    "from matplotlib import pyplot as plt\n",
    "from tct import tct"
   ]
  },
  {
   "cell_type": "code",
   "execution_count": 2,
   "metadata": {},
   "outputs": [],
   "source": [
    "metadata, data = tct.read(\"data/hvsccan20190628_2\")"
   ]
  },
  {
   "cell_type": "code",
   "execution_count": 3,
   "metadata": {},
   "outputs": [
    {
     "data": {
      "text/plain": [
       "{'filetype': 82,\n",
       " 'day': 28,\n",
       " 'month': 6,\n",
       " 'year': 2019,\n",
       " 'hour': 16,\n",
       " 'minutes': 51,\n",
       " 'seconds': 9,\n",
       " 'abstime': 3644578304.0,\n",
       " 'x0': -17795.001953125,\n",
       " 'dx': 4.699999809265137,\n",
       " 'nx': 1,\n",
       " 'y0': 8399.990234375,\n",
       " 'dy': 2.0,\n",
       " 'ny': 1,\n",
       " 'z0': 31200.501953125,\n",
       " 'dz': 1.0,\n",
       " 'nz': 1,\n",
       " 'time': datetime.datetime(2019, 6, 28, 16, 51, 9),\n",
       " 'wfonoff': [1, 0, 0, 0],\n",
       " 'nu1': 21,\n",
       " 'u1': array([-20. , -21.5, -23. , -24.5, -26. , -27.5, -29. , -30.5, -32. ,\n",
       "        -33.5, -35. , -36.5, -38. , -39.5, -41. , -42.5, -44. , -45.5,\n",
       "        -47. , -48.5, -50. ], dtype=float32),\n",
       " 'nu2': 1,\n",
       " 'u2': array([0.], dtype=float32),\n",
       " 't0': 0.0,\n",
       " 'dt': 4.000000059604645e-10,\n",
       " 'NP': 1252,\n",
       " 'T': 0.0,\n",
       " 'source': 0,\n",
       " 'user': '',\n",
       " 'sample': '',\n",
       " 'comment': ''}"
      ]
     },
     "execution_count": 3,
     "metadata": {},
     "output_type": "execute_result"
    }
   ],
   "source": [
    "metadata"
   ]
  },
  {
   "cell_type": "code",
   "execution_count": 4,
   "metadata": {},
   "outputs": [],
   "source": [
    "import xarray\n",
    "chs_on = np.argwhere(metadata['wfonoff']).squeeze() + 1\n",
    "nch = sum(metadata['wfonoff'])"
   ]
  },
  {
   "cell_type": "code",
   "execution_count": 5,
   "metadata": {},
   "outputs": [],
   "source": [
    "import pandas as pd"
   ]
  },
  {
   "cell_type": "code",
   "execution_count": 6,
   "metadata": {},
   "outputs": [],
   "source": [
    "data = pd.DataFrame({'u1': data['u1'], 'ch1':np.min(data['ch1'], axis=1)})"
   ]
  },
  {
   "cell_type": "code",
   "execution_count": 8,
   "metadata": {},
   "outputs": [
    {
     "data": {
      "image/png": "[encoded data removed]",
      "text/plain": [
       "<Figure size 432x288 with 1 Axes>"
      ]
     },
     "metadata": {
      "needs_background": "light"
     },
     "output_type": "display_data"
    }
   ],
   "source": [
    "fig, ax = plt.subplots()\n",
    "ax.plot(-data['u1'], -data['ch1'], 'o-')\n",
    "ax.set_xlabel('Inverse voltage [V]')\n",
    "ax.set_ylabel('signal amplitude')\n",
    "fig.savefig('gain.pdf')"
   ]
  },
  {
   "cell_type": "code",
   "execution_count": null,
   "metadata": {},
   "outputs": [],
   "source": []
  }
 ],
 "metadata": {
  "kernelspec": {
   "display_name": "venv3",
   "language": "python",
   "name": "venv3"
  },
  "language_info": {
   "codemirror_mode": {
    "name": "ipython",
    "version": 3
   },
   "file_extension": ".py",
   "mimetype": "text/x-python",
   "name": "python",
   "nbconvert_exporter": "python",
   "pygments_lexer": "ipython3",
   "version": "3.7.3"
  }
 },
 "nbformat": 4,
 "nbformat_minor": 2
}
